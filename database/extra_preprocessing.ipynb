{
 "cells": [
  {
   "cell_type": "code",
   "execution_count": 4,
   "metadata": {},
   "outputs": [
    {
     "name": "stdout",
     "output_type": "stream",
     "text": [
      "공통된 name 개수: 600\n",
      "menu_updated.csv에만 있는 name 개수: 0\n",
      "preprocessed_naver.csv에만 있는 name 개수: 1\n",
      "'menu' 열이 추가된 새로운 파일이 'preprocessed_naver_updated.csv'로 저장되었습니다.\n"
     ]
    }
   ],
   "source": [
    "import pandas as pd\n",
    "\n",
    "# 파일 불러오기\n",
    "menu_df = pd.read_csv(\"menu_updated.csv\")\n",
    "naver_df = pd.read_csv(\"preprocessed_naver.csv\")\n",
    "\n",
    "# 'name' 열 공통 및 차이 분석\n",
    "menu_names = set(menu_df['name']) if 'name' in menu_df.columns else set()\n",
    "naver_names = set(naver_df['name']) if 'name' in naver_df.columns else set()\n",
    "\n",
    "common_names = menu_names.intersection(naver_names)\n",
    "only_in_menu = menu_names - naver_names\n",
    "only_in_naver = naver_names - menu_names\n",
    "\n",
    "print(f\"공통된 name 개수: {len(common_names)}\")\n",
    "print(f\"menu_updated.csv에만 있는 name 개수: {len(only_in_menu)}\")\n",
    "print(f\"preprocessed_naver.csv에만 있는 name 개수: {len(only_in_naver)}\")\n",
    "\n",
    "# 'menu' 열 추가 (name이 일치하는 경우에만 추가)\n",
    "if 'menu' in menu_df.columns:\n",
    "    menu_mapping = menu_df.set_index('name')['menu'].to_dict()\n",
    "    naver_df['menu'] = naver_df['name'].map(menu_mapping)\n",
    "else:\n",
    "    raise ValueError(\"menu_updated.csv에 'menu' 열이 존재하지 않습니다.\")\n",
    "\n",
    "# 변경된 데이터 저장\n",
    "naver_df.to_csv(\"preprocessed_naver_updated.csv\", index=False)\n",
    "\n",
    "print(\"'menu' 열이 추가된 새로운 파일이 'preprocessed_naver_updated.csv'로 저장되었습니다.\")\n"
   ]
  },
  {
   "cell_type": "code",
   "execution_count": 6,
   "metadata": {},
   "outputs": [
    {
     "name": "stdout",
     "output_type": "stream",
     "text": [
      "606\n"
     ]
    }
   ],
   "source": [
    "new_df = pd.read_csv(\"preprocessed_naver_updated.csv\")\n",
    "print(len(new_df))"
   ]
  },
  {
   "cell_type": "code",
   "execution_count": 7,
   "metadata": {},
   "outputs": [
    {
     "name": "stdout",
     "output_type": "stream",
     "text": [
      "Category Set: {'분식', '일식', '호프/통닭', '패밀리레스트랑', '통닭(치킨)', '식육(숯불구이)', '경양식', '라이브카페', '정종/대포집/소주방', '감성주점', '횟집', '중국식', '냉면집', '패스트푸드', '외국음식전문점(인도,태국등)', '한식'}\n"
     ]
    }
   ],
   "source": [
    "if 'category' in naver_df.columns:\n",
    "    category_set = set(naver_df['category'].dropna())\n",
    "    print(\"Category Set:\", category_set)\n",
    "else:\n",
    "    raise ValueError(\"preprocessed_naver.csv에 'category' 열이 존재하지 않습니다.\")\n"
   ]
  },
  {
   "cell_type": "code",
   "execution_count": 14,
   "metadata": {},
   "outputs": [
    {
     "name": "stdout",
     "output_type": "stream",
     "text": [
      "'menu' 열이 추가되고 'category'가 매핑된 새로운 파일이 'preprocessed_naver_updated.csv'로 저장되었습니다.\n"
     ]
    }
   ],
   "source": [
    "naver_df = pd.read_csv(\"preprocessed_naver.csv\")\n",
    "\n",
    "# 'category' 열의 고유 값 집합 출력 및 매핑\n",
    "category_mapping = {\n",
    "    '한식': '한식', '냉면집': '한식', '식육(숯불구이)': '한식',\n",
    "    '중국식': '중식',\n",
    "    '경양식': '양식', '패밀리레스트랑': '양식', '패스트푸드': '양식',\n",
    "    '일식': '일식', '횟집': '일식',\n",
    "    '외국음식전문점(인도,태국등)': '기타', '분식': '한식',\n",
    "    '호프/통닭': '양식', '통닭(치킨)': '양식', '정종/대포집/소주방': '주점', '감성주점': '주점'\n",
    "}\n",
    "\n",
    "if 'category' in naver_df.columns:\n",
    "    naver_df = naver_df[naver_df['category'] != '라이브카페']  # '라이브카페' 삭제\n",
    "    naver_df['category'] = naver_df['category'].map(category_mapping)\n",
    "else:\n",
    "    raise ValueError(\"preprocessed_naver.csv에 'category' 열이 존재하지 않습니다.\")\n",
    "\n",
    "# 변경된 데이터 저장\n",
    "naver_df.to_csv(\"preprocessed_naver_updated.csv\", index=False)\n",
    "\n",
    "print(\"'menu' 열이 추가되고 'category'가 매핑된 새로운 파일이 'preprocessed_naver_updated.csv'로 저장되었습니다.\")\n"
   ]
  },
  {
   "cell_type": "code",
   "execution_count": 15,
   "metadata": {},
   "outputs": [
    {
     "name": "stdout",
     "output_type": "stream",
     "text": [
      "카테고리별 행 개수:\n",
      "category\n",
      "한식    291\n",
      "양식    138\n",
      "일식    113\n",
      "중식     35\n",
      "주점     13\n",
      "기타     12\n",
      "Name: count, dtype: int64\n"
     ]
    }
   ],
   "source": [
    "new_df = pd.read_csv(\"preprocessed_naver_updated.csv\")\n",
    "# 'category' 열의 각 카테고리별 행 개수 계산\n",
    "if 'category' in new_df.columns:\n",
    "    category_counts = new_df['category'].value_counts()\n",
    "    print(\"카테고리별 행 개수:\")\n",
    "    print(category_counts)\n",
    "else:\n",
    "    raise ValueError(\"preprocessed_naver_updated.csv에 'category' 열이 존재하지 않습니다.\")"
   ]
  },
  {
   "cell_type": "code",
   "execution_count": 16,
   "metadata": {},
   "outputs": [
    {
     "name": "stdout",
     "output_type": "stream",
     "text": [
      "'keyword' 열이 추가된 새로운 파일이 'preprocessed_naver_updated.csv'로 저장되었습니다.\n"
     ]
    }
   ],
   "source": [
    "import pandas as pd\n",
    "import ast\n",
    "\n",
    "# 파일 불러오기\n",
    "naver_df = pd.read_csv(\"preprocessed_naver.csv\")\n",
    "\n",
    "# 'keyword' 열 생성\n",
    "def extract_keywords(row):\n",
    "    keywords = []\n",
    "    \n",
    "    # facilities 열에서 키워드 추출\n",
    "    if pd.notna(row['facilities']):\n",
    "        facilities_list = ast.literal_eval(row['facilities'])\n",
    "        keywords.extend(facilities_list)\n",
    "    \n",
    "    # very_good 열에서 키워드 추출 (숫자 제외)\n",
    "    if pd.notna(row['very_good']):\n",
    "        very_good_list = ast.literal_eval(row['very_good'])\n",
    "        keywords.extend([item[0].replace('\"', '') for item in very_good_list])\n",
    "    \n",
    "    # seat_info 열에서 키워드 추출\n",
    "    if pd.notna(row['seat_info']):\n",
    "        seat_info_list = ast.literal_eval(row['seat_info'])\n",
    "        keywords.extend(seat_info_list)\n",
    "    \n",
    "    return keywords  # 리스트를 유지하고 비어있을 경우 빈 리스트 반환\n",
    "\n",
    "# 'keyword' 열 추가\n",
    "if any(col in naver_df.columns for col in ['facilities', 'very_good', 'seat_info']):\n",
    "    naver_df['keyword'] = naver_df.apply(extract_keywords, axis=1)\n",
    "else:\n",
    "    raise ValueError(\"preprocessed_naver_updated.csv에 'facilities', 'very_good', 'seat_info' 열이 존재하지 않습니다.\")\n",
    "\n",
    "# 변경된 데이터 저장\n",
    "naver_df.to_csv(\"preprocessed_naver_updated.csv\", index=False)\n",
    "\n",
    "print(\"'keyword' 열이 추가된 새로운 파일이 'preprocessed_naver_updated.csv'로 저장되었습니다.\")\n"
   ]
  },
  {
   "cell_type": "code",
   "execution_count": null,
   "metadata": {},
   "outputs": [
    {
     "name": "stdout",
     "output_type": "stream",
     "text": [
      "모든 키워드의 집합: set()\n"
     ]
    }
   ],
   "source": [
    "# keyword 열의 모든 값을 set으로 변환\n",
    "naver_df = pd.read_csv(\"preprocessed_naver_updated.csv\")\n",
    "all_keywords = set()\n",
    "for keywords in naver_df['keyword']:\n",
    "    if isinstance(keywords, list):\n",
    "        all_keywords.update(keywords)\n",
    "\n",
    "print(\"모든 키워드의 집합:\", all_keywords)"
   ]
  }
 ],
 "metadata": {
  "kernelspec": {
   "display_name": "Python 3",
   "language": "python",
   "name": "python3"
  },
  "language_info": {
   "codemirror_mode": {
    "name": "ipython",
    "version": 3
   },
   "file_extension": ".py",
   "mimetype": "text/x-python",
   "name": "python",
   "nbconvert_exporter": "python",
   "pygments_lexer": "ipython3",
   "version": "3.12.6"
  }
 },
 "nbformat": 4,
 "nbformat_minor": 2
}
