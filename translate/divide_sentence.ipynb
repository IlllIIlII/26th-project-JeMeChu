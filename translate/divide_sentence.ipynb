{
 "cells": [
  {
   "cell_type": "code",
   "execution_count": 1,
   "metadata": {},
   "outputs": [],
   "source": [
    "import pandas as pd\n",
    "\n",
    "df = pd.read_csv(\"preprocessed_naver.csv\", encoding=\"UTF-8\")"
   ]
  },
  {
   "cell_type": "code",
   "execution_count": 6,
   "metadata": {},
   "outputs": [
    {
     "data": {
      "text/html": [
       "<div>\n",
       "<style scoped>\n",
       "    .dataframe tbody tr th:only-of-type {\n",
       "        vertical-align: middle;\n",
       "    }\n",
       "\n",
       "    .dataframe tbody tr th {\n",
       "        vertical-align: top;\n",
       "    }\n",
       "\n",
       "    .dataframe thead th {\n",
       "        text-align: right;\n",
       "    }\n",
       "</style>\n",
       "<table border=\"1\" class=\"dataframe\">\n",
       "  <thead>\n",
       "    <tr style=\"text-align: right;\">\n",
       "      <th></th>\n",
       "      <th>사업장명</th>\n",
       "      <th>최신 300개 리뷰</th>\n",
       "    </tr>\n",
       "  </thead>\n",
       "  <tbody>\n",
       "    <tr>\n",
       "      <th>0</th>\n",
       "      <td>라운지목화 합정관</td>\n",
       "      <td>음식이 맛있고 직원분들 친절해요 다음에도 올 생각 있음 추천합니다 음식도 빨리 나와...</td>\n",
       "    </tr>\n",
       "    <tr>\n",
       "      <th>1</th>\n",
       "      <td>탭샵바 합정점</td>\n",
       "      <td>분위기 좋고 가심비 가성비를 모두 만족시키네요 자주올게요 멋진 인테리어 깔끔한 매장...</td>\n",
       "    </tr>\n",
       "    <tr>\n",
       "      <th>2</th>\n",
       "      <td>연남골목냉면</td>\n",
       "      <td>출출해서 급하게 찾아서 왔는데\\n평점보다 더 맛있게 먹은 것 같아요\\n명태회도 비린...</td>\n",
       "    </tr>\n",
       "    <tr>\n",
       "      <th>3</th>\n",
       "      <td>유아하</td>\n",
       "      <td>튀김동파육은 꼭 드시길 추천드려요\\n진짜 맛있었고 물만두는 생각보다 크고 맛있었습니...</td>\n",
       "    </tr>\n",
       "    <tr>\n",
       "      <th>4</th>\n",
       "      <td>증증일상</td>\n",
       "      <td>수저우에서 오래 살다 왔는데 길가다 반가운 마음에 들어옴 궈티에 셩젼 수저우탕면 주...</td>\n",
       "    </tr>\n",
       "    <tr>\n",
       "      <th>...</th>\n",
       "      <td>...</td>\n",
       "      <td>...</td>\n",
       "    </tr>\n",
       "    <tr>\n",
       "      <th>600</th>\n",
       "      <td>넌덕</td>\n",
       "      <td>2달에 메뉴 햄버거만 먹기 부담스러우면 토마토 스튜에 곁들여 먹기 좋아요 자극적이지...</td>\n",
       "    </tr>\n",
       "    <tr>\n",
       "      <th>601</th>\n",
       "      <td>족발애감동</td>\n",
       "      <td>리뷰 안좋게 써본 적 처음인데 화가 나서 씁니다\\n마감 새벽 4시라고 해서 일부러 ...</td>\n",
       "    </tr>\n",
       "    <tr>\n",
       "      <th>602</th>\n",
       "      <td>이키</td>\n",
       "      <td>음식 소스가 다 맛있습니다 예약 성공해서 다녀왔는데 음식도 맛있고 대화하기 딱입니다...</td>\n",
       "    </tr>\n",
       "    <tr>\n",
       "      <th>603</th>\n",
       "      <td>이가네 양꼬치 양갈비</td>\n",
       "      <td>넘 친절하시고 정말 꼼꼼하시고 시원해요 넘 힐링이였어요 관리사분들은 어딜가나 케바케...</td>\n",
       "    </tr>\n",
       "    <tr>\n",
       "      <th>604</th>\n",
       "      <td>같이양조장</td>\n",
       "      <td>같이 양조장의 막걸리들이 잘 갖춰져 있습니다\\n직원분이 친절하게 설명해주셔요  막걸...</td>\n",
       "    </tr>\n",
       "  </tbody>\n",
       "</table>\n",
       "<p>605 rows × 2 columns</p>\n",
       "</div>"
      ],
      "text/plain": [
       "            사업장명                                         최신 300개 리뷰\n",
       "0      라운지목화 합정관  음식이 맛있고 직원분들 친절해요 다음에도 올 생각 있음 추천합니다 음식도 빨리 나와...\n",
       "1        탭샵바 합정점  분위기 좋고 가심비 가성비를 모두 만족시키네요 자주올게요 멋진 인테리어 깔끔한 매장...\n",
       "2         연남골목냉면  출출해서 급하게 찾아서 왔는데\\n평점보다 더 맛있게 먹은 것 같아요\\n명태회도 비린...\n",
       "3            유아하  튀김동파육은 꼭 드시길 추천드려요\\n진짜 맛있었고 물만두는 생각보다 크고 맛있었습니...\n",
       "4           증증일상  수저우에서 오래 살다 왔는데 길가다 반가운 마음에 들어옴 궈티에 셩젼 수저우탕면 주...\n",
       "..           ...                                                ...\n",
       "600           넌덕  2달에 메뉴 햄버거만 먹기 부담스러우면 토마토 스튜에 곁들여 먹기 좋아요 자극적이지...\n",
       "601        족발애감동  리뷰 안좋게 써본 적 처음인데 화가 나서 씁니다\\n마감 새벽 4시라고 해서 일부러 ...\n",
       "602           이키  음식 소스가 다 맛있습니다 예약 성공해서 다녀왔는데 음식도 맛있고 대화하기 딱입니다...\n",
       "603  이가네 양꼬치 양갈비  넘 친절하시고 정말 꼼꼼하시고 시원해요 넘 힐링이였어요 관리사분들은 어딜가나 케바케...\n",
       "604        같이양조장  같이 양조장의 막걸리들이 잘 갖춰져 있습니다\\n직원분이 친절하게 설명해주셔요  막걸...\n",
       "\n",
       "[605 rows x 2 columns]"
      ]
     },
     "execution_count": 6,
     "metadata": {},
     "output_type": "execute_result"
    }
   ],
   "source": [
    "df.loc[:,[\"사업장명\",\"최신 300개 리뷰\"]]"
   ]
  },
  {
   "cell_type": "code",
   "execution_count": 7,
   "metadata": {},
   "outputs": [
    {
     "name": "stdout",
     "output_type": "stream",
     "text": [
      "변환 완료! 'converted_test.txt'에서 확인 가능.\n"
     ]
    }
   ],
   "source": [
    "with open(\"test.txt\", \"r\", encoding=\"utf-8\") as file:\n",
    "    content = file.read()\n",
    "\n",
    "# \\n을 표시한 상태로 변환\n",
    "converted_text = content.replace(\"\\n\", \"\\\\n\")\n",
    "\n",
    "# 변환된 텍스트 저장 (또는 출력)\n",
    "with open(\"converted_test.txt\", \"w\", encoding=\"utf-8\") as file:\n",
    "    file.write(converted_text)\n",
    "\n",
    "print(\"변환 완료! 'converted_test.txt'에서 확인 가능.\")"
   ]
  }
 ],
 "metadata": {
  "kernelspec": {
   "display_name": "base",
   "language": "python",
   "name": "python3"
  },
  "language_info": {
   "codemirror_mode": {
    "name": "ipython",
    "version": 3
   },
   "file_extension": ".py",
   "mimetype": "text/x-python",
   "name": "python",
   "nbconvert_exporter": "python",
   "pygments_lexer": "ipython3",
   "version": "3.12.4"
  }
 },
 "nbformat": 4,
 "nbformat_minor": 2
}
