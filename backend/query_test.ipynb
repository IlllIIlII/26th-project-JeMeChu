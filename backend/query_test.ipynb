{
 "cells": [
  {
   "cell_type": "code",
   "execution_count": 3,
   "metadata": {},
   "outputs": [],
   "source": [
    "## 돌아가는 거 test하고 나중에 이 파일 전체 삭제하기 !!"
   ]
  },
  {
   "cell_type": "code",
   "execution_count": 6,
   "metadata": {},
   "outputs": [],
   "source": [
    "# 가상의 테스트 데이터 (DB가 준비되면 실제 DB 연동)\n",
    "TEST_RESTAURANTS = [\n",
    "    {\"id\": 1, \"name\": \"김치찌개 맛집\", \"category\": \"한식\", \"menu\": [\"김치찌개\", \"된장찌개\"], \"open_hours\": \"09:00-21:00\"},\n",
    "    {\"id\": 2, \"name\": \"베이징 덕 전문점\", \"category\": \"중식\", \"menu\": [\"베이징덕\", \"짜장면\"], \"open_hours\": \"10:00-22:00\"},\n",
    "    {\"id\": 3, \"name\": \"스시야\", \"category\": \"일식\", \"menu\": [\"초밥\", \"우동\"], \"open_hours\": \"11:00-23:00\"},\n",
    "    {\"id\": 4, \"name\": \"스테이크 하우스\", \"category\": \"양식\", \"menu\": [\"스테이크\", \"파스타\"], \"open_hours\": \"12:00-23:00\"},\n",
    "]\n"
   ]
  },
  {
   "cell_type": "code",
   "execution_count": 7,
   "metadata": {},
   "outputs": [],
   "source": [
    "def filter_by_category(category):\n",
    "    \"\"\"\n",
    "    사용자가 선택한 카테고리를 기반으로 식당을 필터링하는 함수\n",
    "    - category: '한식', '중식', '일식' 등 선택된 카테고리\n",
    "    - \"아무거나\" 선택 시 모든 식당 반환\n",
    "    \"\"\"\n",
    "    if category == \"아무거나\":\n",
    "        return TEST_RESTAURANTS  # 모든 식당 반환\n",
    "    \n",
    "    return [restaurant for restaurant in TEST_RESTAURANTS if restaurant[\"category\"] == category]"
   ]
  },
  {
   "cell_type": "code",
   "execution_count": 8,
   "metadata": {},
   "outputs": [
    {
     "name": "stdout",
     "output_type": "stream",
     "text": [
      "[{'id': 1, 'name': '김치찌개 맛집', 'category': '한식', 'menu': ['김치찌개', '된장찌개'], 'open_hours': '09:00-21:00'}]\n"
     ]
    }
   ],
   "source": [
    "# 테스트 실행\n",
    "selected_category = \"한식\"  # 예시 입력\n",
    "filtered_restaurants = filter_by_category(selected_category)\n",
    "print(filtered_restaurants)\n"
   ]
  },
  {
   "cell_type": "code",
   "execution_count": 1,
   "metadata": {},
   "outputs": [
    {
     "name": "stdout",
     "output_type": "stream",
     "text": [
      "Requirement already satisfied: openai==0.28 in /opt/anaconda3/envs/ybigta/lib/python3.11/site-packages (0.28.0)\n",
      "Requirement already satisfied: requests>=2.20 in /opt/anaconda3/envs/ybigta/lib/python3.11/site-packages (from openai==0.28) (2.32.3)\n",
      "Requirement already satisfied: tqdm in /opt/anaconda3/envs/ybigta/lib/python3.11/site-packages (from openai==0.28) (4.67.1)\n",
      "Requirement already satisfied: aiohttp in /opt/anaconda3/envs/ybigta/lib/python3.11/site-packages (from openai==0.28) (3.11.12)\n",
      "Requirement already satisfied: charset-normalizer<4,>=2 in /opt/anaconda3/envs/ybigta/lib/python3.11/site-packages (from requests>=2.20->openai==0.28) (3.3.2)\n",
      "Requirement already satisfied: idna<4,>=2.5 in /opt/anaconda3/envs/ybigta/lib/python3.11/site-packages (from requests>=2.20->openai==0.28) (3.10)\n",
      "Requirement already satisfied: urllib3<3,>=1.21.1 in /opt/anaconda3/envs/ybigta/lib/python3.11/site-packages (from requests>=2.20->openai==0.28) (2.3.0)\n",
      "Requirement already satisfied: certifi>=2017.4.17 in /opt/anaconda3/envs/ybigta/lib/python3.11/site-packages (from requests>=2.20->openai==0.28) (2024.12.14)\n",
      "Requirement already satisfied: aiohappyeyeballs>=2.3.0 in /opt/anaconda3/envs/ybigta/lib/python3.11/site-packages (from aiohttp->openai==0.28) (2.4.6)\n",
      "Requirement already satisfied: aiosignal>=1.1.2 in /opt/anaconda3/envs/ybigta/lib/python3.11/site-packages (from aiohttp->openai==0.28) (1.3.2)\n",
      "Requirement already satisfied: attrs>=17.3.0 in /opt/anaconda3/envs/ybigta/lib/python3.11/site-packages (from aiohttp->openai==0.28) (24.3.0)\n",
      "Requirement already satisfied: frozenlist>=1.1.1 in /opt/anaconda3/envs/ybigta/lib/python3.11/site-packages (from aiohttp->openai==0.28) (1.5.0)\n",
      "Requirement already satisfied: multidict<7.0,>=4.5 in /opt/anaconda3/envs/ybigta/lib/python3.11/site-packages (from aiohttp->openai==0.28) (6.1.0)\n",
      "Requirement already satisfied: propcache>=0.2.0 in /opt/anaconda3/envs/ybigta/lib/python3.11/site-packages (from aiohttp->openai==0.28) (0.2.1)\n",
      "Requirement already satisfied: yarl<2.0,>=1.17.0 in /opt/anaconda3/envs/ybigta/lib/python3.11/site-packages (from aiohttp->openai==0.28) (1.18.3)\n",
      "Note: you may need to restart the kernel to use updated packages.\n"
     ]
    }
   ],
   "source": [
    "%pip install openai==0.28"
   ]
  },
  {
   "cell_type": "code",
   "execution_count": 1,
   "metadata": {},
   "outputs": [],
   "source": [
    "import openai\n",
    "\n",
    "def regenerate_query(details_input):\n",
    "    \"\"\"세부사항을 정리하고 관련 개념을 확장하는 Query 재생성\"\"\"\n",
    "    \n",
    "    system_prompt = \"\"\"\n",
    "    사용자의 검색어를 기반으로 식당 필터링을 위한 Query를 생성하세요.\n",
    "    \n",
    "    - 의미를 정리하고 관련 개념을 확장하세요.\n",
    "    - JSON 형식으로 반환하세요.\n",
    "\n",
    "    예시:\n",
    "    - 입력: '조용하고 주차 가능한 곳'\n",
    "      출력: {'분위기': ['조용함', '아늑한 분위기', '프라이빗 룸'], '주차': ['주차 가능', '발렛 파킹', '근처 공영주차장']}\n",
    "    - 입력: '단체 모임 하기 좋은 곳'\n",
    "      출력: {'시설': ['단체석', '넓은 공간', '예약 가능'], '분위기': ['활기찬', '시끌벅적']}\n",
    "    \"\"\"\n",
    "\n",
    "    response = openai.ChatCompletion.create(\n",
    "        model=\"gpt-4-turbo\",\n",
    "        messages=[{\"role\": \"system\", \"content\": system_prompt},\n",
    "                  {\"role\": \"user\", \"content\": details_input}]\n",
    "    )\n",
    "\n",
    "    return response[\"choices\"][0][\"message\"][\"content\"]\n"
   ]
  },
  {
   "cell_type": "code",
   "execution_count": null,
   "metadata": {},
   "outputs": [
    {
     "name": "stdout",
     "output_type": "stream",
     "text": [
      "{\n",
      "  \"분위기\": [\"조용함\", \"아늑한 분위기\", \"프라이빗 룸\"],\n",
      "  \"주차\": [\"주차 가능\", \"발렛 파킹\", \"근처 공영주차장\"]\n",
      "}\n"
     ]
    }
   ],
   "source": [
    "# 테스트 실행\n",
    "details_input = \"조용하고 주차 가능한 곳\"\n",
    "expanded_query = regenerate_query(details_input)\n",
    "print(expanded_query)"
   ]
  },
  {
   "cell_type": "code",
   "execution_count": 9,
   "metadata": {},
   "outputs": [],
   "source": [
    "def regenerate_query(details_input):\n",
    "    \"\"\"\n",
    "    사용자의 검색어에서 '메뉴명'과 '세부사항(시설, 분위기, 주차)'을 추출하여 JSON 형식으로 변환.\n",
    "    \n",
    "    예시:\n",
    "    - 입력: \"김치찌개 조용하고 주차할 수 있는 데서 먹고 싶어\"\n",
    "      출력: {\"menu\": [\"김치찌개\"], \"분위기\": [\"조용함\"], \"주차\": [\"주차 가능\"]}\n",
    "    - 입력: \"초밥집인데 단체석 있는 곳\"\n",
    "      출력: {\"menu\": [\"초밥\"], \"시설\": [\"단체석\"]}\n",
    "    \"\"\"\n",
    "\n",
    "    system_prompt = \"\"\"\n",
    "    사용자의 검색어를 분석하여 JSON 형식으로 반환하세요.\n",
    "    \n",
    "    1. 메뉴가 포함되어 있으면 \"menu\" 키에 해당하는 리스트에 메뉴명을 저장하세요.\n",
    "    2. 나머지 검색어는 \"시설\", \"분위기\", \"주차\" 등의 키로 분류하여 확장하세요.\n",
    "    3. JSON 형식으로만 출력하세요.\n",
    "\n",
    "    예시:\n",
    "    - 입력: '김치찌개 조용하고 주차할 수 있는 데서 먹고 싶어'\n",
    "      출력: {\"menu\": [\"김치찌개\"], \"분위기\": [\"조용함\", \"아늑한 분위기\"], \"주차\": [\"주차 가능\", \"발렛 파킹\"]}\n",
    "    - 입력: '초밥집인데 단체석 있는 곳'\n",
    "      출력: {\"menu\": [\"초밥\"], \"시설\": [\"단체석\"]}\n",
    "    \"\"\"\n",
    "\n",
    "    try:\n",
    "        response = openai.ChatCompletion.create(\n",
    "            model=\"gpt-4-turbo\",\n",
    "            messages=[{\"role\": \"system\", \"content\": system_prompt},\n",
    "                      {\"role\": \"user\", \"content\": details_input}]\n",
    "        )\n",
    "\n",
    "        # expanded_query = json.loads(response[\"choices\"][0][\"message\"][\"content\"])\n",
    "        expanded_query = response[\"choices\"][0][\"message\"][\"content\"]\n",
    "        return expanded_query\n",
    "\n",
    "    except Exception as e:\n",
    "        print(\"OpenAI API 요청 실패:\", e)\n",
    "        return {}  # 실패 시 빈 딕셔너리 반환"
   ]
  },
  {
   "cell_type": "code",
   "execution_count": 10,
   "metadata": {},
   "outputs": [
    {
     "name": "stdout",
     "output_type": "stream",
     "text": [
      "{\"menu\": [\"김치찌개\"], \"분위기\": [\"조용함\"], \"주차\": [\"주차 가능\"]}\n"
     ]
    }
   ],
   "source": [
    "details_test = \"김치찌개 조용하고 주차할 수 있는 데서 먹고 싶어\"\n",
    "expanded_query = regenerate_query(details_test)\n",
    "print(expanded_query)"
   ]
  },
  {
   "cell_type": "code",
   "execution_count": 11,
   "metadata": {},
   "outputs": [],
   "source": [
    "def regenerate_query(details_input):\n",
    "    \"\"\"\n",
    "    사용자의 검색어를 기반으로 관련 개념을 확장하여 JSON 형식으로 변환.\n",
    "    예: \"조용하고 주차 가능한 곳\" -> {'시설': ['조용한 분위기', '방음'], '주차': ['주차 가능']}\n",
    "    \"\"\"\n",
    "    system_prompt = \"\"\"\n",
    "    사용자의 검색어를 기반으로 관련 개념을 확장하여 JSON 형식으로 반환하세요.\n",
    "    예시:\n",
    "    facilities: 단체 이용 가능, 예약, 무선 인터넷, 와인 페어링, 전문 소믈리에, 포장, 배달, 남/녀 화장실 구분, 장애인 휠체어 이용가능, 출입구 휠체어 이용가능, 콜키지 가능, 생일 혜택, 유아의자, 노키즈존, 비건 메뉴, 반려동물 동반, 대기공간, 좌석 휠체어 이용가능, 테이크아웃 할인, 방문접수/출장, 장애인 주차구역, 무한 리필, 글루텐프리 메뉴, 유기농 메뉴, 유아시설 (놀이방), 핸드드립\n",
    "    parking: 주차 불가, 무료 주차 가능, 유료 주차 가능, 주차 가능\n",
    "    very_good: 음식이 맛있어요, 인테리어가 멋져요, 친절해요, 대화하기 좋아요, 술이 다양해요, 음악이 좋아요, 재료가 신선해요, 양이 많아요, 혼밥하기 좋아요, 특별한 메뉴가 있어요, 가성비가 좋아요, 고기 질이 좋아요, 직접 잘 구워줘요, 기본 안주가 좋아요, 단체모임 하기 좋아요, 디저트가 맛있어요, 음료가 맛있어요, 커피가 맛있어요, 특별한 날 가기 좋아요, 매장이 넓어요, 매장이 청결해요, 아늑해요, 컨셉이 독특해요, 현지 맛에 가까워요, 혼술하기 좋아요, 야외공간이 멋져요, 오래 머무르기 좋아요, 반찬이 잘 나와요, 품질이 좋아요, 종류가 다양해요, 빵이 맛있어요, 시설이 깔끔해요, 게임 종류가 다양해요, 침구가 좋아요, 조용히 쉬기 좋아요, 깨끗해요, 메뉴 구성이 알차요, 차가 맛있어요, 마사지가 시원해요, 맞춤 케어를 잘해줘요, 분위기가 편안해요, 뷰가 좋아요\n",
    "    seat_info: 카운터석, 입식, 바테이블, 룸, 단체석, 테라스, 좌식, 1인석, 연인석, 루프탑\n",
    "\n",
    "\n",
    "    - 입력: \"많을 사람들과 함께 예약을 해서 주차 가능한 곳\"\n",
    "    - 출력: {\"facilities\": [\"단체 이용 가능\"], \"주차\": [\"주차 가능\"]}\n",
    "    \n",
    "    - 입력: \"아이와 함께 갈 만한 곳\"\n",
    "    - 출력: {\"시설\": [\"유아 의자\"], \"이런 점이 좋았어요\": [\"친절해요\"]}\n",
    "    \n",
    "    - 입력: \"단체석 있고 와인 추천 잘해주는 곳\"\n",
    "    - 출력: {\"시설\": [\"단체 이용 가능\", \"전문 소믈리에\"]}\n",
    "    \n",
    "    이런식으로 중요해보이는거 사용자의 검색어에서 중요해보이는 개념 2가지를 뽑아줘\n",
    "\n",
    "    JSON 형식으로만 출력하세요.\n",
    "    \"\"\"\n",
    "\n",
    "    try:\n",
    "        response = openai.ChatCompletion.create(\n",
    "            model=\"gpt-4-turbo\",\n",
    "            messages=[{\"role\": \"system\", \"content\": system_prompt},\n",
    "                      {\"role\": \"user\", \"content\": details_input}]\n",
    "        )\n",
    "\n",
    "        expanded_query = response[\"choices\"][0][\"message\"][\"content\"]\n",
    "        return expanded_query\n",
    "\n",
    "    except Exception as e:\n",
    "        print(\"OpenAI API 요청 실패:\", e)\n",
    "        return {}  # 실패 시 빈 딕셔너리 반환"
   ]
  },
  {
   "cell_type": "code",
   "execution_count": 12,
   "metadata": {},
   "outputs": [
    {
     "name": "stdout",
     "output_type": "stream",
     "text": [
      "OpenAI API 요청 실패: name 'json' is not defined\n",
      "{}\n"
     ]
    }
   ],
   "source": [
    "details_test = \"아 진짜 오늘너무너무 피곤한데 이 꿀꿀한 기분을 만회하기 위해서 뭔가 산뜻하고 리프레싱한 분위기에서 식사를 할 수 있는 곳을 알려줘. 나 차를 가져갈 예정이야\"\n",
    "expanded_query = regenerate_query(details_test)\n",
    "print(expanded_query)"
   ]
  },
  {
   "cell_type": "code",
   "execution_count": null,
   "metadata": {},
   "outputs": [],
   "source": [
    "def filter_by_expanded_query(restaurants, expanded_query):\n",
    "    \"\"\"Query 재생성을 기반으로 세부사항과 매칭되는 식당을 필터링\"\"\"\n",
    "    \n",
    "    matched_restaurants = []\n",
    "\n",
    "    for res in restaurants:\n",
    "        res_id, name, facilities, parking, highlights = res[\"id\"], res[\"name\"], res[\"facilities\"], res[\"parking\"], res[\"highlights\"]\n",
    "\n",
    "        # Query 재구성 결과와 DB 속성을 비교하여 필터링\n",
    "        matched_details = {\n",
    "            \"식당명\": name,\n",
    "            \"편의시설\": [f for f in expanded_query.get(\"시설\", []) if f in facilities],\n",
    "            \"주차\": [p for p in expanded_query.get(\"주차\", []) if p in parking],\n",
    "            \"이런 점이 좋았어요\": [h for h in expanded_query.get(\"분위기\", []) if h in highlights],\n",
    "        }\n",
    "\n",
    "        # 하나라도 매칭되는 요소가 있으면 추가\n",
    "        if any(matched_details.values()):\n",
    "            matched_restaurants.append(matched_details)\n",
    "\n",
    "    return matched_restaurants\n",
    "\n"
   ]
  },
  {
   "cell_type": "code",
   "execution_count": null,
   "metadata": {},
   "outputs": [
    {
     "ename": "NameError",
     "evalue": "name 'TEST_RESTAURANTS' is not defined",
     "output_type": "error",
     "traceback": [
      "\u001b[0;31m---------------------------------------------------------------------------\u001b[0m",
      "\u001b[0;31mNameError\u001b[0m                                 Traceback (most recent call last)",
      "Cell \u001b[0;32mIn[5], line 2\u001b[0m\n\u001b[1;32m      1\u001b[0m \u001b[38;5;66;03m# 필터링 테스트 실행\u001b[39;00m\n\u001b[0;32m----> 2\u001b[0m filtered_results \u001b[38;5;241m=\u001b[39m filter_by_expanded_query(\u001b[43mTEST_RESTAURANTS\u001b[49m, expanded_query)\n\u001b[1;32m      3\u001b[0m \u001b[38;5;28mprint\u001b[39m(filtered_results)\n",
      "\u001b[0;31mNameError\u001b[0m: name 'TEST_RESTAURANTS' is not defined"
     ]
    }
   ],
   "source": [
    "# 필터링 테스트 실행\n",
    "filtered_results = filter_by_expanded_query(TEST_RESTAURANTS, expanded_query)\n",
    "print(filtered_results)"
   ]
  },
  {
   "cell_type": "code",
   "execution_count": null,
   "metadata": {},
   "outputs": [],
   "source": []
  }
 ],
 "metadata": {
  "kernelspec": {
   "display_name": "Python (ybigta)",
   "language": "python",
   "name": "ybigta"
  },
  "language_info": {
   "codemirror_mode": {
    "name": "ipython",
    "version": 3
   },
   "file_extension": ".py",
   "mimetype": "text/x-python",
   "name": "python",
   "nbconvert_exporter": "python",
   "pygments_lexer": "ipython3",
   "version": "3.11.8"
  }
 },
 "nbformat": 4,
 "nbformat_minor": 2
}
