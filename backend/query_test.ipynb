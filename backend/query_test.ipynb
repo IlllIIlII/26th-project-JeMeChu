{
 "cells": [
  {
   "cell_type": "code",
   "execution_count": 3,
   "metadata": {},
   "outputs": [],
   "source": [
    "## 돌아가는 거 test하고 나중에 이 파일 전체 삭제하기 !!"
   ]
  },
  {
   "cell_type": "code",
   "execution_count": 6,
   "metadata": {},
   "outputs": [],
   "source": [
    "# 가상의 테스트 데이터 (DB가 준비되면 실제 DB 연동)\n",
    "TEST_RESTAURANTS = [\n",
    "    {\"id\": 1, \"name\": \"김치찌개 맛집\", \"category\": \"한식\", \"menu\": [\"김치찌개\", \"된장찌개\"], \"open_hours\": \"09:00-21:00\"},\n",
    "    {\"id\": 2, \"name\": \"베이징 덕 전문점\", \"category\": \"중식\", \"menu\": [\"베이징덕\", \"짜장면\"], \"open_hours\": \"10:00-22:00\"},\n",
    "    {\"id\": 3, \"name\": \"스시야\", \"category\": \"일식\", \"menu\": [\"초밥\", \"우동\"], \"open_hours\": \"11:00-23:00\"},\n",
    "    {\"id\": 4, \"name\": \"스테이크 하우스\", \"category\": \"양식\", \"menu\": [\"스테이크\", \"파스타\"], \"open_hours\": \"12:00-23:00\"},\n",
    "]\n"
   ]
  },
  {
   "cell_type": "code",
   "execution_count": 7,
   "metadata": {},
   "outputs": [],
   "source": [
    "def filter_by_category(category):\n",
    "    \"\"\"\n",
    "    사용자가 선택한 카테고리를 기반으로 식당을 필터링하는 함수\n",
    "    - category: '한식', '중식', '일식' 등 선택된 카테고리\n",
    "    - \"아무거나\" 선택 시 모든 식당 반환\n",
    "    \"\"\"\n",
    "    if category == \"아무거나\":\n",
    "        return TEST_RESTAURANTS  # 모든 식당 반환\n",
    "    \n",
    "    return [restaurant for restaurant in TEST_RESTAURANTS if restaurant[\"category\"] == category]"
   ]
  },
  {
   "cell_type": "code",
   "execution_count": 8,
   "metadata": {},
   "outputs": [
    {
     "name": "stdout",
     "output_type": "stream",
     "text": [
      "[{'id': 1, 'name': '김치찌개 맛집', 'category': '한식', 'menu': ['김치찌개', '된장찌개'], 'open_hours': '09:00-21:00'}]\n"
     ]
    }
   ],
   "source": [
    "# 테스트 실행\n",
    "selected_category = \"한식\"  # 예시 입력\n",
    "filtered_restaurants = filter_by_category(selected_category)\n",
    "print(filtered_restaurants)\n"
   ]
  },
  {
   "cell_type": "code",
   "execution_count": 1,
   "metadata": {},
   "outputs": [
    {
     "name": "stdout",
     "output_type": "stream",
     "text": [
      "Requirement already satisfied: openai==0.28 in /opt/anaconda3/envs/ybigta/lib/python3.11/site-packages (0.28.0)\n",
      "Requirement already satisfied: requests>=2.20 in /opt/anaconda3/envs/ybigta/lib/python3.11/site-packages (from openai==0.28) (2.32.3)\n",
      "Requirement already satisfied: tqdm in /opt/anaconda3/envs/ybigta/lib/python3.11/site-packages (from openai==0.28) (4.67.1)\n",
      "Requirement already satisfied: aiohttp in /opt/anaconda3/envs/ybigta/lib/python3.11/site-packages (from openai==0.28) (3.11.12)\n",
      "Requirement already satisfied: charset-normalizer<4,>=2 in /opt/anaconda3/envs/ybigta/lib/python3.11/site-packages (from requests>=2.20->openai==0.28) (3.3.2)\n",
      "Requirement already satisfied: idna<4,>=2.5 in /opt/anaconda3/envs/ybigta/lib/python3.11/site-packages (from requests>=2.20->openai==0.28) (3.10)\n",
      "Requirement already satisfied: urllib3<3,>=1.21.1 in /opt/anaconda3/envs/ybigta/lib/python3.11/site-packages (from requests>=2.20->openai==0.28) (2.3.0)\n",
      "Requirement already satisfied: certifi>=2017.4.17 in /opt/anaconda3/envs/ybigta/lib/python3.11/site-packages (from requests>=2.20->openai==0.28) (2024.12.14)\n",
      "Requirement already satisfied: aiohappyeyeballs>=2.3.0 in /opt/anaconda3/envs/ybigta/lib/python3.11/site-packages (from aiohttp->openai==0.28) (2.4.6)\n",
      "Requirement already satisfied: aiosignal>=1.1.2 in /opt/anaconda3/envs/ybigta/lib/python3.11/site-packages (from aiohttp->openai==0.28) (1.3.2)\n",
      "Requirement already satisfied: attrs>=17.3.0 in /opt/anaconda3/envs/ybigta/lib/python3.11/site-packages (from aiohttp->openai==0.28) (24.3.0)\n",
      "Requirement already satisfied: frozenlist>=1.1.1 in /opt/anaconda3/envs/ybigta/lib/python3.11/site-packages (from aiohttp->openai==0.28) (1.5.0)\n",
      "Requirement already satisfied: multidict<7.0,>=4.5 in /opt/anaconda3/envs/ybigta/lib/python3.11/site-packages (from aiohttp->openai==0.28) (6.1.0)\n",
      "Requirement already satisfied: propcache>=0.2.0 in /opt/anaconda3/envs/ybigta/lib/python3.11/site-packages (from aiohttp->openai==0.28) (0.2.1)\n",
      "Requirement already satisfied: yarl<2.0,>=1.17.0 in /opt/anaconda3/envs/ybigta/lib/python3.11/site-packages (from aiohttp->openai==0.28) (1.18.3)\n",
      "Note: you may need to restart the kernel to use updated packages.\n"
     ]
    }
   ],
   "source": [
    "%pip install openai==0.28"
   ]
  },
  {
   "cell_type": "code",
   "execution_count": 1,
   "metadata": {},
   "outputs": [],
   "source": [
    "import openai\n",
    "\n",
    "def regenerate_query(details_input):\n",
    "    \"\"\"세부사항을 정리하고 관련 개념을 확장하는 Query 재생성\"\"\"\n",
    "    \n",
    "    system_prompt = \"\"\"\n",
    "    사용자의 검색어를 기반으로 식당 필터링을 위한 Query를 생성하세요.\n",
    "    \n",
    "    - 의미를 정리하고 관련 개념을 확장하세요.\n",
    "    - JSON 형식으로 반환하세요.\n",
    "\n",
    "    예시:\n",
    "    - 입력: '조용하고 주차 가능한 곳'\n",
    "      출력: {'분위기': ['조용함', '아늑한 분위기', '프라이빗 룸'], '주차': ['주차 가능', '발렛 파킹', '근처 공영주차장']}\n",
    "    - 입력: '단체 모임 하기 좋은 곳'\n",
    "      출력: {'시설': ['단체석', '넓은 공간', '예약 가능'], '분위기': ['활기찬', '시끌벅적']}\n",
    "    \"\"\"\n",
    "\n",
    "    response = openai.ChatCompletion.create(\n",
    "        model=\"gpt-4-turbo\",\n",
    "        messages=[{\"role\": \"system\", \"content\": system_prompt},\n",
    "                  {\"role\": \"user\", \"content\": details_input}]\n",
    "    )\n",
    "\n",
    "    return response[\"choices\"][0][\"message\"][\"content\"]\n"
   ]
  },
  {
   "cell_type": "code",
   "execution_count": null,
   "metadata": {},
   "outputs": [
    {
     "name": "stdout",
     "output_type": "stream",
     "text": [
      "{\n",
      "  \"분위기\": [\"조용함\", \"아늑한 분위기\", \"프라이빗 룸\"],\n",
      "  \"주차\": [\"주차 가능\", \"발렛 파킹\", \"근처 공영주차장\"]\n",
      "}\n"
     ]
    }
   ],
   "source": [
    "# 테스트 실행\n",
    "details_input = \"조용하고 주차 가능한 곳\"\n",
    "expanded_query = regenerate_query(details_input)\n",
    "print(expanded_query)"
   ]
  },
  {
   "cell_type": "code",
   "execution_count": 6,
   "metadata": {},
   "outputs": [],
   "source": [
    "def regenerate_query(details_input):\n",
    "    \"\"\"\n",
    "    사용자의 검색어에서 '메뉴명'과 '세부사항(시설, 분위기, 주차)'을 추출하여 JSON 형식으로 변환.\n",
    "    \n",
    "    예시:\n",
    "    - 입력: \"김치찌개 조용하고 주차할 수 있는 데서 먹고 싶어\"\n",
    "      출력: {\"menu\": [\"김치찌개\"], \"분위기\": [\"조용함\"], \"주차\": [\"주차 가능\"]}\n",
    "    - 입력: \"초밥집인데 단체석 있는 곳\"\n",
    "      출력: {\"menu\": [\"초밥\"], \"시설\": [\"단체석\"]}\n",
    "    \"\"\"\n",
    "\n",
    "    system_prompt = \"\"\"\n",
    "    사용자의 검색어를 분석하여 JSON 형식으로 반환하세요.\n",
    "    \n",
    "    1. 메뉴가 포함되어 있으면 \"menu\" 키에 해당하는 리스트에 메뉴명을 저장하세요.\n",
    "    2. 나머지 검색어는 \"시설\", \"분위기\", \"주차\" 등의 키로 분류하여 확장하세요.\n",
    "    3. JSON 형식으로만 출력하세요.\n",
    "\n",
    "    예시:\n",
    "    - 입력: '김치찌개 조용하고 주차할 수 있는 데서 먹고 싶어'\n",
    "      출력: {\"menu\": [\"김치찌개\"], \"분위기\": [\"조용함\", \"아늑한 분위기\"], \"주차\": [\"주차 가능\", \"발렛 파킹\"]}\n",
    "    - 입력: '초밥집인데 단체석 있는 곳'\n",
    "      출력: {\"menu\": [\"초밥\"], \"시설\": [\"단체석\"]}\n",
    "    \"\"\"\n",
    "\n",
    "    try:\n",
    "        response = openai.ChatCompletion.create(\n",
    "            model=\"gpt-4-turbo\",\n",
    "            messages=[{\"role\": \"system\", \"content\": system_prompt},\n",
    "                      {\"role\": \"user\", \"content\": details_input}]\n",
    "        )\n",
    "\n",
    "        # expanded_query = json.loads(response[\"choices\"][0][\"message\"][\"content\"])\n",
    "        expanded_query = response[\"choices\"][0][\"message\"][\"content\"]\n",
    "        return expanded_query\n",
    "\n",
    "    except Exception as e:\n",
    "        print(\"OpenAI API 요청 실패:\", e)\n",
    "        return {}  # 실패 시 빈 딕셔너리 반환"
   ]
  },
  {
   "cell_type": "code",
   "execution_count": 8,
   "metadata": {},
   "outputs": [
    {
     "name": "stdout",
     "output_type": "stream",
     "text": [
      "OpenAI API 요청 실패: name 'json' is not defined\n",
      "{}\n"
     ]
    }
   ],
   "source": [
    "details_test = \"김치찌개 조용하고 주차할 수 있는 데서 먹고 싶어\"\n",
    "expanded_query = regenerate_query(details_test)\n",
    "print(expanded_query)"
   ]
  },
  {
   "cell_type": "code",
   "execution_count": null,
   "metadata": {},
   "outputs": [],
   "source": [
    "def filter_by_expanded_query(restaurants, expanded_query):\n",
    "    \"\"\"Query 재생성을 기반으로 세부사항과 매칭되는 식당을 필터링\"\"\"\n",
    "    \n",
    "    matched_restaurants = []\n",
    "\n",
    "    for res in restaurants:\n",
    "        res_id, name, facilities, parking, highlights = res[\"id\"], res[\"name\"], res[\"facilities\"], res[\"parking\"], res[\"highlights\"]\n",
    "\n",
    "        # Query 재구성 결과와 DB 속성을 비교하여 필터링\n",
    "        matched_details = {\n",
    "            \"식당명\": name,\n",
    "            \"편의시설\": [f for f in expanded_query.get(\"시설\", []) if f in facilities],\n",
    "            \"주차\": [p for p in expanded_query.get(\"주차\", []) if p in parking],\n",
    "            \"이런 점이 좋았어요\": [h for h in expanded_query.get(\"분위기\", []) if h in highlights],\n",
    "        }\n",
    "\n",
    "        # 하나라도 매칭되는 요소가 있으면 추가\n",
    "        if any(matched_details.values()):\n",
    "            matched_restaurants.append(matched_details)\n",
    "\n",
    "    return matched_restaurants\n",
    "\n"
   ]
  },
  {
   "cell_type": "code",
   "execution_count": null,
   "metadata": {},
   "outputs": [
    {
     "ename": "NameError",
     "evalue": "name 'TEST_RESTAURANTS' is not defined",
     "output_type": "error",
     "traceback": [
      "\u001b[0;31m---------------------------------------------------------------------------\u001b[0m",
      "\u001b[0;31mNameError\u001b[0m                                 Traceback (most recent call last)",
      "Cell \u001b[0;32mIn[5], line 2\u001b[0m\n\u001b[1;32m      1\u001b[0m \u001b[38;5;66;03m# 필터링 테스트 실행\u001b[39;00m\n\u001b[0;32m----> 2\u001b[0m filtered_results \u001b[38;5;241m=\u001b[39m filter_by_expanded_query(\u001b[43mTEST_RESTAURANTS\u001b[49m, expanded_query)\n\u001b[1;32m      3\u001b[0m \u001b[38;5;28mprint\u001b[39m(filtered_results)\n",
      "\u001b[0;31mNameError\u001b[0m: name 'TEST_RESTAURANTS' is not defined"
     ]
    }
   ],
   "source": [
    "# 필터링 테스트 실행\n",
    "filtered_results = filter_by_expanded_query(TEST_RESTAURANTS, expanded_query)\n",
    "print(filtered_results)"
   ]
  },
  {
   "cell_type": "code",
   "execution_count": null,
   "metadata": {},
   "outputs": [],
   "source": []
  }
 ],
 "metadata": {
  "kernelspec": {
   "display_name": "Python (ybigta)",
   "language": "python",
   "name": "ybigta"
  },
  "language_info": {
   "codemirror_mode": {
    "name": "ipython",
    "version": 3
   },
   "file_extension": ".py",
   "mimetype": "text/x-python",
   "name": "python",
   "nbconvert_exporter": "python",
   "pygments_lexer": "ipython3",
   "version": "3.11.8"
  }
 },
 "nbformat": 4,
 "nbformat_minor": 2
}
