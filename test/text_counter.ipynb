{
 "cells": [
  {
   "cell_type": "code",
   "execution_count": 1,
   "metadata": {},
   "outputs": [],
   "source": [
    "import pandas as pd\n",
    "import tiktoken"
   ]
  },
  {
   "cell_type": "code",
   "execution_count": 2,
   "metadata": {},
   "outputs": [],
   "source": [
    "df = pd.read_csv(\"preprocessed_naver.csv\")"
   ]
  },
  {
   "cell_type": "code",
   "execution_count": 5,
   "metadata": {},
   "outputs": [
    {
     "data": {
      "text/plain": [
       "Index(['소재지면적', '지번주소', '도로명주소', '사업장명', '업태구분명', '좌표정보(X)', '좌표정보(Y)', '전화번호',\n",
       "       '운영시간', '총 리뷰 개수', '소개', '편의시설 및 서비스', '주차 정보', '이런점이 좋았어요',\n",
       "       '최신 300개 리뷰', '좌석 정보', 'tfidf_features'],\n",
       "      dtype='object')"
      ]
     },
     "execution_count": 5,
     "metadata": {},
     "output_type": "execute_result"
    }
   ],
   "source": [
    "df.columns\n"
   ]
  },
  {
   "cell_type": "code",
   "execution_count": 12,
   "metadata": {},
   "outputs": [],
   "source": [
    "count_df = df[[\"소개\",\"최신 300개 리뷰\"]]"
   ]
  },
  {
   "cell_type": "code",
   "execution_count": 13,
   "metadata": {},
   "outputs": [
    {
     "data": {
      "text/html": [
       "<div>\n",
       "<style scoped>\n",
       "    .dataframe tbody tr th:only-of-type {\n",
       "        vertical-align: middle;\n",
       "    }\n",
       "\n",
       "    .dataframe tbody tr th {\n",
       "        vertical-align: top;\n",
       "    }\n",
       "\n",
       "    .dataframe thead th {\n",
       "        text-align: right;\n",
       "    }\n",
       "</style>\n",
       "<table border=\"1\" class=\"dataframe\">\n",
       "  <thead>\n",
       "    <tr style=\"text-align: right;\">\n",
       "      <th></th>\n",
       "      <th>소개</th>\n",
       "      <th>최신 300개 리뷰</th>\n",
       "    </tr>\n",
       "  </thead>\n",
       "  <tbody>\n",
       "    <tr>\n",
       "      <th>0</th>\n",
       "      <td>홍콩누와르 요리주점 라운지목화\\n\\n'우리는 그 시절 홍콩이 그리웠다.'\\n\\n홍콩...</td>\n",
       "      <td>음식이 맛있고 직원분들 친절해요 다음에도 올 생각 있음 추천합니다 음식도 빨리 나와...</td>\n",
       "    </tr>\n",
       "    <tr>\n",
       "      <th>1</th>\n",
       "      <td>'wine is second americano'\\n\\n안녕하세요,\\n\\n와인을 더 ...</td>\n",
       "      <td>분위기 좋고 가심비 가성비를 모두 만족시키네요 자주올게요 멋진 인테리어 깔끔한 매장...</td>\n",
       "    </tr>\n",
       "    <tr>\n",
       "      <th>2</th>\n",
       "      <td>NaN</td>\n",
       "      <td>출출해서 급하게 찾아서 왔는데\\n평점보다 더 맛있게 먹은 것 같아요\\n명태회도 비린...</td>\n",
       "    </tr>\n",
       "    <tr>\n",
       "      <th>3</th>\n",
       "      <td>합정에서 만나는 진짜 대만의 맛, 유아하\\n\\n3대째 내려온 할머니의 레시피로, 깊...</td>\n",
       "      <td>튀김동파육은 꼭 드시길 추천드려요\\n진짜 맛있었고 물만두는 생각보다 크고 맛있었습니...</td>\n",
       "    </tr>\n",
       "    <tr>\n",
       "      <th>4</th>\n",
       "      <td>蒸蒸日上(증증일상) 이름 유래:\\n蒸은 '찔, 증'이라는 한자로 '찌다', '데우다...</td>\n",
       "      <td>수저우에서 오래 살다 왔는데 길가다 반가운 마음에 들어옴 궈티에 셩젼 수저우탕면 주...</td>\n",
       "    </tr>\n",
       "    <tr>\n",
       "      <th>...</th>\n",
       "      <td>...</td>\n",
       "      <td>...</td>\n",
       "    </tr>\n",
       "    <tr>\n",
       "      <th>600</th>\n",
       "      <td>안녕하세요 넌-덕 입니다\\n오리사장의 햄버거 집입니다\\n공간이 협소해 애견동반은 어...</td>\n",
       "      <td>2달에 메뉴 햄버거만 먹기 부담스러우면 토마토 스튜에 곁들여 먹기 좋아요 자극적이지...</td>\n",
       "    </tr>\n",
       "    <tr>\n",
       "      <th>601</th>\n",
       "      <td>국내산 생족을 매일 직접 삶는 족발의 참맛을 볼 수 있는 홍대 족발 메카!</td>\n",
       "      <td>리뷰 안좋게 써본 적 처음인데 화가 나서 씁니다\\n마감 새벽 4시라고 해서 일부러 ...</td>\n",
       "    </tr>\n",
       "    <tr>\n",
       "      <th>602</th>\n",
       "      <td>합정동 이자카야 이키입니다.\\n와인,사케,생맥주,하이볼등 다양한주류를\\n제철식재료를...</td>\n",
       "      <td>음식 소스가 다 맛있습니다 예약 성공해서 다녀왔는데 음식도 맛있고 대화하기 딱입니다...</td>\n",
       "    </tr>\n",
       "    <tr>\n",
       "      <th>603</th>\n",
       "      <td>* 새로운 매장 위치\\n마포한강1차푸르지오 ( 딜라이트 스퀘어 1차 )\\n\\n지하철...</td>\n",
       "      <td>넘 친절하시고 정말 꼼꼼하시고 시원해요 넘 힐링이였어요 관리사분들은 어딜가나 케바케...</td>\n",
       "    </tr>\n",
       "    <tr>\n",
       "      <th>604</th>\n",
       "      <td>_\\n옛 문헌 속에 존재하는 전통주를 기반으로 다양한 부재료와 조합해 현대적으로 재...</td>\n",
       "      <td>같이 양조장의 막걸리들이 잘 갖춰져 있습니다\\n직원분이 친절하게 설명해주셔요  막걸...</td>\n",
       "    </tr>\n",
       "  </tbody>\n",
       "</table>\n",
       "<p>605 rows × 2 columns</p>\n",
       "</div>"
      ],
      "text/plain": [
       "                                                    소개  \\\n",
       "0    홍콩누와르 요리주점 라운지목화\\n\\n'우리는 그 시절 홍콩이 그리웠다.'\\n\\n홍콩...   \n",
       "1    'wine is second americano'\\n\\n안녕하세요,\\n\\n와인을 더 ...   \n",
       "2                                                  NaN   \n",
       "3    합정에서 만나는 진짜 대만의 맛, 유아하\\n\\n3대째 내려온 할머니의 레시피로, 깊...   \n",
       "4    蒸蒸日上(증증일상) 이름 유래:\\n蒸은 '찔, 증'이라는 한자로 '찌다', '데우다...   \n",
       "..                                                 ...   \n",
       "600  안녕하세요 넌-덕 입니다\\n오리사장의 햄버거 집입니다\\n공간이 협소해 애견동반은 어...   \n",
       "601          국내산 생족을 매일 직접 삶는 족발의 참맛을 볼 수 있는 홍대 족발 메카!   \n",
       "602  합정동 이자카야 이키입니다.\\n와인,사케,생맥주,하이볼등 다양한주류를\\n제철식재료를...   \n",
       "603  * 새로운 매장 위치\\n마포한강1차푸르지오 ( 딜라이트 스퀘어 1차 )\\n\\n지하철...   \n",
       "604  _\\n옛 문헌 속에 존재하는 전통주를 기반으로 다양한 부재료와 조합해 현대적으로 재...   \n",
       "\n",
       "                                            최신 300개 리뷰  \n",
       "0    음식이 맛있고 직원분들 친절해요 다음에도 올 생각 있음 추천합니다 음식도 빨리 나와...  \n",
       "1    분위기 좋고 가심비 가성비를 모두 만족시키네요 자주올게요 멋진 인테리어 깔끔한 매장...  \n",
       "2    출출해서 급하게 찾아서 왔는데\\n평점보다 더 맛있게 먹은 것 같아요\\n명태회도 비린...  \n",
       "3    튀김동파육은 꼭 드시길 추천드려요\\n진짜 맛있었고 물만두는 생각보다 크고 맛있었습니...  \n",
       "4    수저우에서 오래 살다 왔는데 길가다 반가운 마음에 들어옴 궈티에 셩젼 수저우탕면 주...  \n",
       "..                                                 ...  \n",
       "600  2달에 메뉴 햄버거만 먹기 부담스러우면 토마토 스튜에 곁들여 먹기 좋아요 자극적이지...  \n",
       "601  리뷰 안좋게 써본 적 처음인데 화가 나서 씁니다\\n마감 새벽 4시라고 해서 일부러 ...  \n",
       "602  음식 소스가 다 맛있습니다 예약 성공해서 다녀왔는데 음식도 맛있고 대화하기 딱입니다...  \n",
       "603  넘 친절하시고 정말 꼼꼼하시고 시원해요 넘 힐링이였어요 관리사분들은 어딜가나 케바케...  \n",
       "604  같이 양조장의 막걸리들이 잘 갖춰져 있습니다\\n직원분이 친절하게 설명해주셔요  막걸...  \n",
       "\n",
       "[605 rows x 2 columns]"
      ]
     },
     "execution_count": 13,
     "metadata": {},
     "output_type": "execute_result"
    }
   ],
   "source": [
    "count_df"
   ]
  },
  {
   "cell_type": "code",
   "execution_count": 14,
   "metadata": {},
   "outputs": [
    {
     "name": "stderr",
     "output_type": "stream",
     "text": [
      "/var/folders/tf/02_6lkvd73nbp9k5fyfj80fh0000gn/T/ipykernel_46191/2289680114.py:8: SettingWithCopyWarning: \n",
      "A value is trying to be set on a copy of a slice from a DataFrame.\n",
      "Try using .loc[row_indexer,col_indexer] = value instead\n",
      "\n",
      "See the caveats in the documentation: https://pandas.pydata.org/pandas-docs/stable/user_guide/indexing.html#returning-a-view-versus-a-copy\n",
      "  count_df[\"token_review\"] = count_df[\"최신 300개 리뷰\"].apply(count_tokens)  # Change \"Text\" to your column name\n",
      "/var/folders/tf/02_6lkvd73nbp9k5fyfj80fh0000gn/T/ipykernel_46191/2289680114.py:9: SettingWithCopyWarning: \n",
      "A value is trying to be set on a copy of a slice from a DataFrame.\n",
      "Try using .loc[row_indexer,col_indexer] = value instead\n",
      "\n",
      "See the caveats in the documentation: https://pandas.pydata.org/pandas-docs/stable/user_guide/indexing.html#returning-a-view-versus-a-copy\n",
      "  count_df[\"token_explain\"] = count_df[\"소개\"].apply(count_tokens)  # Change \"Text\" to your column name\n"
     ]
    }
   ],
   "source": [
    "tokenizer = tiktoken.get_encoding(\"cl100k_base\")\n",
    "\n",
    "# Function to count tokens\n",
    "def count_tokens(text):\n",
    "    return len(tokenizer.encode(str(text))) if pd.notna(text) else 0\n",
    "\n",
    "# Apply function to the 'Text' column\n",
    "count_df[\"token_review\"] = count_df[\"최신 300개 리뷰\"].apply(count_tokens)  # Change \"Text\" to your column name\n",
    "count_df[\"token_explain\"] = count_df[\"소개\"].apply(count_tokens)  # Change \"Text\" to your column name\n",
    "\n",
    "# Save the updated file\n",
    "# output_path = \"your_file_with_token_counts.csv\"\n",
    "# df.to_csv(output_path, index=False)\n",
    "\n",
    "# print(f\"✅ Token counts added! File saved at: {output_path}\")"
   ]
  },
  {
   "cell_type": "code",
   "execution_count": 19,
   "metadata": {},
   "outputs": [
    {
     "data": {
      "text/plain": [
       "12285203"
      ]
     },
     "execution_count": 19,
     "metadata": {},
     "output_type": "execute_result"
    }
   ],
   "source": [
    "count_df[\"token_review\"].sum() + count_df[\"token_explain\"].sum()"
   ]
  },
  {
   "cell_type": "code",
   "execution_count": null,
   "metadata": {},
   "outputs": [],
   "source": []
  }
 ],
 "metadata": {
  "kernelspec": {
   "display_name": "base",
   "language": "python",
   "name": "python3"
  },
  "language_info": {
   "codemirror_mode": {
    "name": "ipython",
    "version": 3
   },
   "file_extension": ".py",
   "mimetype": "text/x-python",
   "name": "python",
   "nbconvert_exporter": "python",
   "pygments_lexer": "ipython3",
   "version": "3.12.4"
  }
 },
 "nbformat": 4,
 "nbformat_minor": 2
}
